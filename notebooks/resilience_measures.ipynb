{
 "cells": [
  {
   "cell_type": "code",
   "execution_count": 2,
   "id": "f427bd71",
   "metadata": {},
   "outputs": [],
   "source": [
    "import sys\n",
    "import os\n",
    "\n",
    "sys.path.append(os.path.abspath('../src'))"
   ]
  },
  {
   "cell_type": "code",
   "execution_count": 4,
   "id": "e79f81d2",
   "metadata": {},
   "outputs": [],
   "source": [
    "from networks import run_single_network, create_random_network"
   ]
  },
  {
   "cell_type": "code",
   "execution_count": 5,
   "id": "d2858dc7",
   "metadata": {},
   "outputs": [],
   "source": [
    "neurons, G = create_random_network(N=50, p_connect=0.4)"
   ]
  },
  {
   "cell_type": "code",
   "execution_count": null,
   "id": "81e371ff",
   "metadata": {},
   "outputs": [],
   "source": [
    "run_single_network(neurons, G, network_type='stdp_syn', T=200)"
   ]
  }
 ],
 "metadata": {
  "kernelspec": {
   "display_name": "myenv",
   "language": "python",
   "name": "python3"
  },
  "language_info": {
   "codemirror_mode": {
    "name": "ipython",
    "version": 3
   },
   "file_extension": ".py",
   "mimetype": "text/x-python",
   "name": "python",
   "nbconvert_exporter": "python",
   "pygments_lexer": "ipython3",
   "version": "3.13.5"
  }
 },
 "nbformat": 4,
 "nbformat_minor": 5
}
